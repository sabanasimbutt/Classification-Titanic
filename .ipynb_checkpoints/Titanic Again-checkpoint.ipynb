{
 "cells": [
  {
   "cell_type": "code",
   "execution_count": 17,
   "metadata": {},
   "outputs": [],
   "source": [
    "from sklearn.model_selection import cross_val_score"
   ]
  },
  {
   "cell_type": "code",
   "execution_count": 109,
   "metadata": {},
   "outputs": [],
   "source": [
    "import numpy as np \n",
    "import pandas as pd\n",
    "import matplotlib.pyplot as plt\n",
    "import seaborn as sns; sns.set() \n",
    "from sklearn.model_selection import train_test_split\n",
    "from sklearn.linear_model import LogisticRegression\n",
    "from sklearn.svm import SVC\n",
    "from sklearn.model_selection import GridSearchCV\n",
    "from sklearn.preprocessing import PolynomialFeatures\n",
    "import warnings\n",
    "import time\n",
    "warnings.filterwarnings(action=\"ignore\")\n",
    "from sklearn.metrics import f1_score\n",
    "from sklearn.neighbors import KNeighborsClassifier\n",
    "from sklearn.ensemble import RandomForestClassifier\n",
    "from sklearn.tree import DecisionTreeClassifier"
   ]
  },
  {
   "cell_type": "code",
   "execution_count": 191,
   "metadata": {},
   "outputs": [],
   "source": [
    "data= pd.read_csv(\"train.csv\")"
   ]
  },
  {
   "cell_type": "code",
   "execution_count": 192,
   "metadata": {},
   "outputs": [
    {
     "name": "stdout",
     "output_type": "stream",
     "text": [
      "Before:  ['Mr' 'Mrs' 'Miss' 'Master' 'Don' 'Rev' 'Dr' 'Mme' 'Ms' 'Major' 'Lady'\n",
      " 'Sir' 'Mlle' 'Col' 'Capt' 'Countess' 'Jonkheer']\n",
      "After:  ['Mr' 'Mrs' 'Miss' 'Master' 'Rare']\n",
      "Family:  [ 2  1  5  3  7  6  4  8 11] \n",
      "\n",
      "After:  [0 3 1 2]\n"
     ]
    },
    {
     "data": {
      "text/html": [
       "<div>\n",
       "<style scoped>\n",
       "    .dataframe tbody tr th:only-of-type {\n",
       "        vertical-align: middle;\n",
       "    }\n",
       "\n",
       "    .dataframe tbody tr th {\n",
       "        vertical-align: top;\n",
       "    }\n",
       "\n",
       "    .dataframe thead th {\n",
       "        text-align: right;\n",
       "    }\n",
       "</style>\n",
       "<table border=\"1\" class=\"dataframe\">\n",
       "  <thead>\n",
       "    <tr style=\"text-align: right;\">\n",
       "      <th></th>\n",
       "      <th>Survived</th>\n",
       "      <th>Pclass</th>\n",
       "      <th>Sex</th>\n",
       "      <th>Age</th>\n",
       "      <th>Fare</th>\n",
       "      <th>Title</th>\n",
       "      <th>Namelength</th>\n",
       "      <th>Family</th>\n",
       "    </tr>\n",
       "  </thead>\n",
       "  <tbody>\n",
       "    <tr>\n",
       "      <th>0</th>\n",
       "      <td>0</td>\n",
       "      <td>3</td>\n",
       "      <td>1</td>\n",
       "      <td>1</td>\n",
       "      <td>0</td>\n",
       "      <td>1</td>\n",
       "      <td>23</td>\n",
       "      <td>2</td>\n",
       "    </tr>\n",
       "    <tr>\n",
       "      <th>1</th>\n",
       "      <td>1</td>\n",
       "      <td>1</td>\n",
       "      <td>0</td>\n",
       "      <td>2</td>\n",
       "      <td>3</td>\n",
       "      <td>3</td>\n",
       "      <td>51</td>\n",
       "      <td>2</td>\n",
       "    </tr>\n",
       "    <tr>\n",
       "      <th>2</th>\n",
       "      <td>1</td>\n",
       "      <td>3</td>\n",
       "      <td>0</td>\n",
       "      <td>1</td>\n",
       "      <td>1</td>\n",
       "      <td>2</td>\n",
       "      <td>22</td>\n",
       "      <td>1</td>\n",
       "    </tr>\n",
       "    <tr>\n",
       "      <th>3</th>\n",
       "      <td>1</td>\n",
       "      <td>1</td>\n",
       "      <td>0</td>\n",
       "      <td>2</td>\n",
       "      <td>3</td>\n",
       "      <td>3</td>\n",
       "      <td>44</td>\n",
       "      <td>2</td>\n",
       "    </tr>\n",
       "    <tr>\n",
       "      <th>4</th>\n",
       "      <td>0</td>\n",
       "      <td>3</td>\n",
       "      <td>1</td>\n",
       "      <td>2</td>\n",
       "      <td>1</td>\n",
       "      <td>1</td>\n",
       "      <td>24</td>\n",
       "      <td>1</td>\n",
       "    </tr>\n",
       "  </tbody>\n",
       "</table>\n",
       "</div>"
      ],
      "text/plain": [
       "   Survived  Pclass  Sex  Age  Fare  Title  Namelength  Family\n",
       "0         0       3    1    1     0      1          23       2\n",
       "1         1       1    0    2     3      3          51       2\n",
       "2         1       3    0    1     1      2          22       1\n",
       "3         1       1    0    2     3      3          44       2\n",
       "4         0       3    1    2     1      1          24       1"
      ]
     },
     "execution_count": 192,
     "metadata": {},
     "output_type": "execute_result"
    }
   ],
   "source": [
    "data['Title']=data['Name'].str.extract(' ([A-Za-z]+)\\.')\n",
    "\n",
    "data['Namelength']= data['Name'].apply(len)\n",
    "\n",
    "print(\"Before: \",data['Title'].unique())\n",
    "\n",
    "data['Title']=data['Title'].replace(['Major', 'Lady', 'Sir', 'Col', 'Capt', 'Countess','Jonkheer','Don', 'Rev', 'Dr' ], 'Rare')\n",
    "data['Title']=data['Title'].replace(['Mme', 'Ms','Mlle'], 'Miss')\n",
    "\n",
    "print(\"After: \",data['Title'].unique())\n",
    "\n",
    "#le = LabelEncoder()\n",
    "#data['Title'] = le.fit_transform(data['Title'])\n",
    "\n",
    "data['Title'] = data['Title'].map({\"Mr\": 1, \"Miss\": 2, \"Mrs\": 3, \"Master\": 4, \"Rare\": 5})\n",
    "\n",
    "\n",
    "data['Cabin']= data['Cabin'].apply(lambda x: 0 if type(x)==float else 1)\n",
    "\n",
    "data['Family']= data['SibSp'] + data['Parch']+1\n",
    "\n",
    "print(\"Family: \",data.Family.unique(),\"\\n\")\n",
    "\n",
    "data['IsAlone'] = 0\n",
    "data.loc[data['Family'] == 1, 'IsAlone'] = 1\n",
    "\n",
    "data['Embarked']=data['Embarked'].fillna('S')\n",
    "\n",
    "data['Embarked'] = data['Embarked'].map( {'S': 0, 'C': 1, 'Q': 2} ).astype(int)\n",
    "\n",
    "data['Sex'] = data['Sex'].map( {'female': 0, 'male': 1} ).astype(int)\n",
    "\n",
    "data.loc[data['Fare']<=7.91, 'Fare' ]=0\n",
    "data.loc[(data['Fare']>7.91) & (data['Fare']<=14.454), 'Fare']=1\n",
    "data.loc[(data['Fare']>14.454) & (data['Fare']<=31), 'Fare']=2\n",
    "data.loc[(data['Fare']>31), 'Fare']=3\n",
    "data['Fare']=data['Fare'].astype(int)\n",
    "\n",
    "print(\"After: \",data['Fare'].unique())\n",
    "\n",
    "age_avg = data['Age'].mean()\n",
    "age_std = data['Age'].std()\n",
    "age_null_count = data['Age'].isnull().sum()\n",
    "age_null_random_list = np.random.randint(age_avg - age_std, age_avg + age_std, size=age_null_count)\n",
    "\n",
    "data['Age'][np.isnan(data['Age'])] = age_null_random_list\n",
    "data['Age'] = data['Age'].astype(int)\n",
    "\n",
    "data['CategoricalAge'] = pd.cut(data['Age'], 5)\n",
    "\n",
    "data.loc[data['Age']<=16, 'Age' ]=0\n",
    "data.loc[(data['Age']>16) & (data['Age']<=32), 'Age']=1\n",
    "data.loc[(data['Age']>32) & (data['Age']<=48), 'Age']=2\n",
    "data.loc[(data['Age']>48) & (data['Age']<=64), 'Age']=3\n",
    "data.loc[data['Age']>64, 'Age' ]=4\n",
    "\n",
    "data.drop(['PassengerId','Name','SibSp','Ticket','Embarked','Cabin', 'IsAlone','Parch', 'CategoricalAge'],axis=1, inplace=True)\n",
    "\n",
    "data.head()"
   ]
  },
  {
   "cell_type": "code",
   "execution_count": 139,
   "metadata": {},
   "outputs": [],
   "source": [
    "corr= data.corr()"
   ]
  },
  {
   "cell_type": "code",
   "execution_count": 113,
   "metadata": {},
   "outputs": [
    {
     "data": {
      "text/html": [
       "<div>\n",
       "<style scoped>\n",
       "    .dataframe tbody tr th:only-of-type {\n",
       "        vertical-align: middle;\n",
       "    }\n",
       "\n",
       "    .dataframe tbody tr th {\n",
       "        vertical-align: top;\n",
       "    }\n",
       "\n",
       "    .dataframe thead th {\n",
       "        text-align: right;\n",
       "    }\n",
       "</style>\n",
       "<table border=\"1\" class=\"dataframe\">\n",
       "  <thead>\n",
       "    <tr style=\"text-align: right;\">\n",
       "      <th></th>\n",
       "      <th>Survived</th>\n",
       "      <th>Pclass</th>\n",
       "      <th>Sex</th>\n",
       "      <th>Age</th>\n",
       "      <th>Parch</th>\n",
       "      <th>Fare</th>\n",
       "      <th>Cabin</th>\n",
       "      <th>Embarked</th>\n",
       "      <th>Title</th>\n",
       "      <th>Namelength</th>\n",
       "      <th>Family</th>\n",
       "      <th>IsAlone</th>\n",
       "    </tr>\n",
       "  </thead>\n",
       "  <tbody>\n",
       "    <tr>\n",
       "      <th>Survived</th>\n",
       "      <td>1.000000</td>\n",
       "      <td>-0.338481</td>\n",
       "      <td>-0.543351</td>\n",
       "      <td>-0.043878</td>\n",
       "      <td>0.081629</td>\n",
       "      <td>0.295875</td>\n",
       "      <td>0.316912</td>\n",
       "      <td>0.106811</td>\n",
       "      <td>0.406705</td>\n",
       "      <td>0.332350</td>\n",
       "      <td>0.016639</td>\n",
       "      <td>-0.203367</td>\n",
       "    </tr>\n",
       "    <tr>\n",
       "      <th>Pclass</th>\n",
       "      <td>-0.338481</td>\n",
       "      <td>1.000000</td>\n",
       "      <td>0.131900</td>\n",
       "      <td>-0.307671</td>\n",
       "      <td>0.018443</td>\n",
       "      <td>-0.628459</td>\n",
       "      <td>-0.725541</td>\n",
       "      <td>0.045702</td>\n",
       "      <td>-0.172362</td>\n",
       "      <td>-0.220001</td>\n",
       "      <td>0.065997</td>\n",
       "      <td>0.135207</td>\n",
       "    </tr>\n",
       "    <tr>\n",
       "      <th>Sex</th>\n",
       "      <td>-0.543351</td>\n",
       "      <td>0.131900</td>\n",
       "      <td>1.000000</td>\n",
       "      <td>0.065610</td>\n",
       "      <td>-0.245489</td>\n",
       "      <td>-0.248940</td>\n",
       "      <td>-0.140391</td>\n",
       "      <td>-0.116569</td>\n",
       "      <td>-0.501646</td>\n",
       "      <td>-0.448759</td>\n",
       "      <td>-0.200988</td>\n",
       "      <td>0.303646</td>\n",
       "    </tr>\n",
       "    <tr>\n",
       "      <th>Age</th>\n",
       "      <td>-0.043878</td>\n",
       "      <td>-0.307671</td>\n",
       "      <td>0.065610</td>\n",
       "      <td>1.000000</td>\n",
       "      <td>-0.141822</td>\n",
       "      <td>0.064414</td>\n",
       "      <td>0.227384</td>\n",
       "      <td>-0.000868</td>\n",
       "      <td>-0.058032</td>\n",
       "      <td>0.044071</td>\n",
       "      <td>-0.204318</td>\n",
       "      <td>0.138213</td>\n",
       "    </tr>\n",
       "    <tr>\n",
       "      <th>Parch</th>\n",
       "      <td>0.081629</td>\n",
       "      <td>0.018443</td>\n",
       "      <td>-0.245489</td>\n",
       "      <td>-0.141822</td>\n",
       "      <td>1.000000</td>\n",
       "      <td>0.393048</td>\n",
       "      <td>0.036987</td>\n",
       "      <td>-0.078665</td>\n",
       "      <td>0.316560</td>\n",
       "      <td>0.252282</td>\n",
       "      <td>0.783111</td>\n",
       "      <td>-0.583398</td>\n",
       "    </tr>\n",
       "    <tr>\n",
       "      <th>Fare</th>\n",
       "      <td>0.295875</td>\n",
       "      <td>-0.628459</td>\n",
       "      <td>-0.248940</td>\n",
       "      <td>0.064414</td>\n",
       "      <td>0.393048</td>\n",
       "      <td>1.000000</td>\n",
       "      <td>0.497108</td>\n",
       "      <td>-0.091096</td>\n",
       "      <td>0.340485</td>\n",
       "      <td>0.334176</td>\n",
       "      <td>0.465815</td>\n",
       "      <td>-0.568942</td>\n",
       "    </tr>\n",
       "    <tr>\n",
       "      <th>Cabin</th>\n",
       "      <td>0.316912</td>\n",
       "      <td>-0.725541</td>\n",
       "      <td>-0.140391</td>\n",
       "      <td>0.227384</td>\n",
       "      <td>0.036987</td>\n",
       "      <td>0.497108</td>\n",
       "      <td>1.000000</td>\n",
       "      <td>0.013774</td>\n",
       "      <td>0.131497</td>\n",
       "      <td>0.190943</td>\n",
       "      <td>-0.009175</td>\n",
       "      <td>-0.158029</td>\n",
       "    </tr>\n",
       "    <tr>\n",
       "      <th>Embarked</th>\n",
       "      <td>0.106811</td>\n",
       "      <td>0.045702</td>\n",
       "      <td>-0.116569</td>\n",
       "      <td>-0.000868</td>\n",
       "      <td>-0.078665</td>\n",
       "      <td>-0.091096</td>\n",
       "      <td>0.013774</td>\n",
       "      <td>1.000000</td>\n",
       "      <td>0.044341</td>\n",
       "      <td>-0.107749</td>\n",
       "      <td>-0.080281</td>\n",
       "      <td>0.017807</td>\n",
       "    </tr>\n",
       "    <tr>\n",
       "      <th>Title</th>\n",
       "      <td>0.406705</td>\n",
       "      <td>-0.172362</td>\n",
       "      <td>-0.501646</td>\n",
       "      <td>-0.058032</td>\n",
       "      <td>0.316560</td>\n",
       "      <td>0.340485</td>\n",
       "      <td>0.131497</td>\n",
       "      <td>0.044341</td>\n",
       "      <td>1.000000</td>\n",
       "      <td>0.479374</td>\n",
       "      <td>0.342931</td>\n",
       "      <td>-0.407032</td>\n",
       "    </tr>\n",
       "    <tr>\n",
       "      <th>Namelength</th>\n",
       "      <td>0.332350</td>\n",
       "      <td>-0.220001</td>\n",
       "      <td>-0.448759</td>\n",
       "      <td>0.044071</td>\n",
       "      <td>0.252282</td>\n",
       "      <td>0.334176</td>\n",
       "      <td>0.190943</td>\n",
       "      <td>-0.107749</td>\n",
       "      <td>0.479374</td>\n",
       "      <td>1.000000</td>\n",
       "      <td>0.238820</td>\n",
       "      <td>-0.406800</td>\n",
       "    </tr>\n",
       "    <tr>\n",
       "      <th>Family</th>\n",
       "      <td>0.016639</td>\n",
       "      <td>0.065997</td>\n",
       "      <td>-0.200988</td>\n",
       "      <td>-0.204318</td>\n",
       "      <td>0.783111</td>\n",
       "      <td>0.465815</td>\n",
       "      <td>-0.009175</td>\n",
       "      <td>-0.080281</td>\n",
       "      <td>0.342931</td>\n",
       "      <td>0.238820</td>\n",
       "      <td>1.000000</td>\n",
       "      <td>-0.690922</td>\n",
       "    </tr>\n",
       "    <tr>\n",
       "      <th>IsAlone</th>\n",
       "      <td>-0.203367</td>\n",
       "      <td>0.135207</td>\n",
       "      <td>0.303646</td>\n",
       "      <td>0.138213</td>\n",
       "      <td>-0.583398</td>\n",
       "      <td>-0.568942</td>\n",
       "      <td>-0.158029</td>\n",
       "      <td>0.017807</td>\n",
       "      <td>-0.407032</td>\n",
       "      <td>-0.406800</td>\n",
       "      <td>-0.690922</td>\n",
       "      <td>1.000000</td>\n",
       "    </tr>\n",
       "  </tbody>\n",
       "</table>\n",
       "</div>"
      ],
      "text/plain": [
       "            Survived    Pclass       Sex       Age     Parch      Fare  \\\n",
       "Survived    1.000000 -0.338481 -0.543351 -0.043878  0.081629  0.295875   \n",
       "Pclass     -0.338481  1.000000  0.131900 -0.307671  0.018443 -0.628459   \n",
       "Sex        -0.543351  0.131900  1.000000  0.065610 -0.245489 -0.248940   \n",
       "Age        -0.043878 -0.307671  0.065610  1.000000 -0.141822  0.064414   \n",
       "Parch       0.081629  0.018443 -0.245489 -0.141822  1.000000  0.393048   \n",
       "Fare        0.295875 -0.628459 -0.248940  0.064414  0.393048  1.000000   \n",
       "Cabin       0.316912 -0.725541 -0.140391  0.227384  0.036987  0.497108   \n",
       "Embarked    0.106811  0.045702 -0.116569 -0.000868 -0.078665 -0.091096   \n",
       "Title       0.406705 -0.172362 -0.501646 -0.058032  0.316560  0.340485   \n",
       "Namelength  0.332350 -0.220001 -0.448759  0.044071  0.252282  0.334176   \n",
       "Family      0.016639  0.065997 -0.200988 -0.204318  0.783111  0.465815   \n",
       "IsAlone    -0.203367  0.135207  0.303646  0.138213 -0.583398 -0.568942   \n",
       "\n",
       "               Cabin  Embarked     Title  Namelength    Family   IsAlone  \n",
       "Survived    0.316912  0.106811  0.406705    0.332350  0.016639 -0.203367  \n",
       "Pclass     -0.725541  0.045702 -0.172362   -0.220001  0.065997  0.135207  \n",
       "Sex        -0.140391 -0.116569 -0.501646   -0.448759 -0.200988  0.303646  \n",
       "Age         0.227384 -0.000868 -0.058032    0.044071 -0.204318  0.138213  \n",
       "Parch       0.036987 -0.078665  0.316560    0.252282  0.783111 -0.583398  \n",
       "Fare        0.497108 -0.091096  0.340485    0.334176  0.465815 -0.568942  \n",
       "Cabin       1.000000  0.013774  0.131497    0.190943 -0.009175 -0.158029  \n",
       "Embarked    0.013774  1.000000  0.044341   -0.107749 -0.080281  0.017807  \n",
       "Title       0.131497  0.044341  1.000000    0.479374  0.342931 -0.407032  \n",
       "Namelength  0.190943 -0.107749  0.479374    1.000000  0.238820 -0.406800  \n",
       "Family     -0.009175 -0.080281  0.342931    0.238820  1.000000 -0.690922  \n",
       "IsAlone    -0.158029  0.017807 -0.407032   -0.406800 -0.690922  1.000000  "
      ]
     },
     "execution_count": 113,
     "metadata": {},
     "output_type": "execute_result"
    }
   ],
   "source": [
    "corr"
   ]
  },
  {
   "cell_type": "code",
   "execution_count": 116,
   "metadata": {},
   "outputs": [
    {
     "data": {
      "text/plain": [
       "<matplotlib.axes._subplots.AxesSubplot at 0x264f18e5ef0>"
      ]
     },
     "execution_count": 116,
     "metadata": {},
     "output_type": "execute_result"
    },
    {
     "data": {
      "image/png": "[encoded data removed]",
      "text/plain": [
       "<Figure size 432x288 with 1 Axes>"
      ]
     },
     "metadata": {},
     "output_type": "display_data"
    }
   ],
   "source": [
    "sns.countplot(data['Age'], hue= data.Cabin)"
   ]
  },
  {
   "cell_type": "code",
   "execution_count": 193,
   "metadata": {},
   "outputs": [],
   "source": [
    "y=np.asarray(data['Survived'])\n",
    "\n",
    "data.drop(['Survived'], axis=1, inplace=True)\n",
    "\n",
    "x=np.asarray(data)"
   ]
  },
  {
   "cell_type": "code",
   "execution_count": 120,
   "metadata": {},
   "outputs": [
    {
     "data": {
      "text/plain": [
       "((891, 11), (891,))"
      ]
     },
     "execution_count": 120,
     "metadata": {},
     "output_type": "execute_result"
    }
   ],
   "source": [
    "x.shape, y.shape"
   ]
  },
  {
   "cell_type": "code",
   "execution_count": 98,
   "metadata": {},
   "outputs": [],
   "source": [
    "xtrain,xtest,ytrain,ytest=train_test_split(x,y,test_size=0.3)"
   ]
  },
  {
   "cell_type": "code",
   "execution_count": 99,
   "metadata": {},
   "outputs": [
    {
     "data": {
      "text/plain": [
       "((623, 11), (268, 11), (623,), (268,))"
      ]
     },
     "execution_count": 99,
     "metadata": {},
     "output_type": "execute_result"
    }
   ],
   "source": [
    "xtrain.shape,xtest.shape,ytrain.shape,ytest.shape"
   ]
  },
  {
   "cell_type": "code",
   "execution_count": 198,
   "metadata": {},
   "outputs": [
    {
     "data": {
      "text/plain": [
       "DecisionTreeClassifier(class_weight=None, criterion='entropy', max_depth=4,\n",
       "            max_features=None, max_leaf_nodes=None,\n",
       "            min_impurity_decrease=0.0, min_impurity_split=None,\n",
       "            min_samples_leaf=7, min_samples_split=2,\n",
       "            min_weight_fraction_leaf=0.0, presort=False, random_state=None,\n",
       "            splitter='best')"
      ]
     },
     "execution_count": 198,
     "metadata": {},
     "output_type": "execute_result"
    }
   ],
   "source": [
    "dt=DecisionTreeClassifier(criterion='entropy', max_depth=4,\n",
    "            min_samples_leaf=7, min_samples_split=2)\n",
    "dt.fit(x,y)"
   ]
  },
  {
   "cell_type": "code",
   "execution_count": 199,
   "metadata": {
    "scrolled": true
   },
   "outputs": [
    {
     "ename": "ValueError",
     "evalue": "Number of features of the model must match the input. Model n_features is 7 and input n_features is 11 ",
     "output_type": "error",
     "traceback": [
      "\u001b[1;31m---------------------------------------------------------------------------\u001b[0m",
      "\u001b[1;31mValueError\u001b[0m                                Traceback (most recent call last)",
      "\u001b[1;32m<ipython-input-199-1c75216b4a21>\u001b[0m in \u001b[0;36m<module>\u001b[1;34m()\u001b[0m\n\u001b[1;32m----> 1\u001b[1;33m \u001b[0mp1\u001b[0m\u001b[1;33m=\u001b[0m \u001b[0mdt\u001b[0m\u001b[1;33m.\u001b[0m\u001b[0mpredict\u001b[0m\u001b[1;33m(\u001b[0m\u001b[0mxtrain\u001b[0m\u001b[1;33m)\u001b[0m\u001b[1;33m\u001b[0m\u001b[0m\n\u001b[0m\u001b[0;32m      2\u001b[0m \u001b[0mf1_score\u001b[0m\u001b[1;33m(\u001b[0m\u001b[0mytrain\u001b[0m\u001b[1;33m,\u001b[0m\u001b[0mp1\u001b[0m\u001b[1;33m)\u001b[0m\u001b[1;33m\u001b[0m\u001b[0m\n",
      "\u001b[1;32mC:\\ProgramData\\Anaconda3\\lib\\site-packages\\sklearn\\tree\\tree.py\u001b[0m in \u001b[0;36mpredict\u001b[1;34m(self, X, check_input)\u001b[0m\n\u001b[0;32m    410\u001b[0m         \"\"\"\n\u001b[0;32m    411\u001b[0m         \u001b[0mcheck_is_fitted\u001b[0m\u001b[1;33m(\u001b[0m\u001b[0mself\u001b[0m\u001b[1;33m,\u001b[0m \u001b[1;34m'tree_'\u001b[0m\u001b[1;33m)\u001b[0m\u001b[1;33m\u001b[0m\u001b[0m\n\u001b[1;32m--> 412\u001b[1;33m         \u001b[0mX\u001b[0m \u001b[1;33m=\u001b[0m \u001b[0mself\u001b[0m\u001b[1;33m.\u001b[0m\u001b[0m_validate_X_predict\u001b[0m\u001b[1;33m(\u001b[0m\u001b[0mX\u001b[0m\u001b[1;33m,\u001b[0m \u001b[0mcheck_input\u001b[0m\u001b[1;33m)\u001b[0m\u001b[1;33m\u001b[0m\u001b[0m\n\u001b[0m\u001b[0;32m    413\u001b[0m         \u001b[0mproba\u001b[0m \u001b[1;33m=\u001b[0m \u001b[0mself\u001b[0m\u001b[1;33m.\u001b[0m\u001b[0mtree_\u001b[0m\u001b[1;33m.\u001b[0m\u001b[0mpredict\u001b[0m\u001b[1;33m(\u001b[0m\u001b[0mX\u001b[0m\u001b[1;33m)\u001b[0m\u001b[1;33m\u001b[0m\u001b[0m\n\u001b[0;32m    414\u001b[0m         \u001b[0mn_samples\u001b[0m \u001b[1;33m=\u001b[0m \u001b[0mX\u001b[0m\u001b[1;33m.\u001b[0m\u001b[0mshape\u001b[0m\u001b[1;33m[\u001b[0m\u001b[1;36m0\u001b[0m\u001b[1;33m]\u001b[0m\u001b[1;33m\u001b[0m\u001b[0m\n",
      "\u001b[1;32mC:\\ProgramData\\Anaconda3\\lib\\site-packages\\sklearn\\tree\\tree.py\u001b[0m in \u001b[0;36m_validate_X_predict\u001b[1;34m(self, X, check_input)\u001b[0m\n\u001b[0;32m    382\u001b[0m                              \u001b[1;34m\"match the input. Model n_features is %s and \"\u001b[0m\u001b[1;33m\u001b[0m\u001b[0m\n\u001b[0;32m    383\u001b[0m                              \u001b[1;34m\"input n_features is %s \"\u001b[0m\u001b[1;33m\u001b[0m\u001b[0m\n\u001b[1;32m--> 384\u001b[1;33m                              % (self.n_features_, n_features))\n\u001b[0m\u001b[0;32m    385\u001b[0m \u001b[1;33m\u001b[0m\u001b[0m\n\u001b[0;32m    386\u001b[0m         \u001b[1;32mreturn\u001b[0m \u001b[0mX\u001b[0m\u001b[1;33m\u001b[0m\u001b[0m\n",
      "\u001b[1;31mValueError\u001b[0m: Number of features of the model must match the input. Model n_features is 7 and input n_features is 11 "
     ]
    }
   ],
   "source": [
    "p1= dt.predict(xtrain)\n",
    "f1_score(ytrain,p1)"
   ]
  },
  {
   "cell_type": "code",
   "execution_count": 102,
   "metadata": {},
   "outputs": [
    {
     "data": {
      "text/plain": [
       "0.7439024390243903"
      ]
     },
     "execution_count": 102,
     "metadata": {},
     "output_type": "execute_result"
    }
   ],
   "source": [
    "p2= dt.predict(xtest)\n",
    "f1_score(ytest,p2)"
   ]
  },
  {
   "cell_type": "code",
   "execution_count": 200,
   "metadata": {},
   "outputs": [
    {
     "data": {
      "text/plain": [
       "0.775326035341951"
      ]
     },
     "execution_count": 200,
     "metadata": {},
     "output_type": "execute_result"
    }
   ],
   "source": [
    "scores = cross_val_score(dt, x, y, cv=7, scoring='f1')\n",
    "scores.mean()"
   ]
  },
  {
   "cell_type": "code",
   "execution_count": 78,
   "metadata": {},
   "outputs": [
    {
     "data": {
      "text/plain": [
       "0.7707932420894946"
      ]
     },
     "execution_count": 78,
     "metadata": {},
     "output_type": "execute_result"
    }
   ],
   "source": [
    "scores = cross_val_score(dt, x, y, cv=7, scoring='f1')\n",
    "scores.mean()"
   ]
  },
  {
   "cell_type": "code",
   "execution_count": 79,
   "metadata": {},
   "outputs": [
    {
     "data": {
      "text/plain": [
       "0.778115501519757"
      ]
     },
     "execution_count": 79,
     "metadata": {},
     "output_type": "execute_result"
    }
   ],
   "source": [
    "p1= dt.predict(x)\n",
    "f1_score(y,p1)"
   ]
  },
  {
   "cell_type": "code",
   "execution_count": 85,
   "metadata": {},
   "outputs": [
    {
     "data": {
      "text/plain": [
       "0.0"
      ]
     },
     "execution_count": 85,
     "metadata": {},
     "output_type": "execute_result"
    }
   ],
   "source": [
    "p2= dt.predict(xtest)\n",
    "f1_score(ytest,p2)"
   ]
  },
  {
   "cell_type": "code",
   "execution_count": 107,
   "metadata": {},
   "outputs": [
    {
     "data": {
      "text/plain": [
       "RandomForestClassifier(bootstrap=True, class_weight=None, criterion='gini',\n",
       "            max_depth=None, max_features='auto', max_leaf_nodes=None,\n",
       "            min_impurity_decrease=0.0, min_impurity_split=None,\n",
       "            min_samples_leaf=1, min_samples_split=2,\n",
       "            min_weight_fraction_leaf=0.0, n_estimators=10, n_jobs=1,\n",
       "            oob_score=False, random_state=None, verbose=0,\n",
       "            warm_start=False)"
      ]
     },
     "execution_count": 107,
     "metadata": {},
     "output_type": "execute_result"
    }
   ],
   "source": [
    "RF=RandomForestClassifier()\n",
    "RF.fit(x,y)"
   ]
  },
  {
   "cell_type": "code",
   "execution_count": 108,
   "metadata": {},
   "outputs": [
    {
     "data": {
      "image/png": "[encoded data removed]",
      "text/plain": [
       "<Figure size 1440x504 with 1 Axes>"
      ]
     },
     "metadata": {},
     "output_type": "display_data"
    }
   ],
   "source": [
    "plt.figure(figsize=[20,7])\n",
    "plt.plot(RF.feature_importances_)\n",
    "plt.xticks(np.arange(data.shape[1]), data.columns.tolist(), rotation=90);"
   ]
  },
  {
   "cell_type": "code",
   "execution_count": null,
   "metadata": {},
   "outputs": [],
   "source": [
    "plt.figure(figsize=[20,7])\n",
    "plt.plot(RF.feature_importances_)\n",
    "plt.xticks(np.arange(data.shape[1]), data.columns.tolist(), rotation=90);"
   ]
  },
  {
   "cell_type": "code",
   "execution_count": 202,
   "metadata": {},
   "outputs": [],
   "source": [
    "test =pd.read_csv(\"test.csv\")\n",
    "test['Title']=test['Name'].str.extract(' ([A-Za-z]+)\\.')\n",
    "\n",
    "test['Namelength']= test['Name'].apply(len)\n",
    "\n",
    "test['Title']=test['Title'].replace(['Major', 'Lady', 'Sir', 'Col', 'Capt', 'Countess','Jonkheer','Don', 'Rev', 'Dr' ], 'Rare')\n",
    "test['Title']=test['Title'].replace(['Mme', 'Ms','Mlle'], 'Miss')\n",
    "\n",
    "#le = LabelEncoder()\n",
    "#test['Title'] = le.fit_transform(test['Title'])\n",
    "\n",
    "test['Title'] = test['Title'].map({\"Mr\": 1, \"Miss\": 2, \"Mrs\": 3, \"Master\": 4, \"Rare\": 5})\n",
    "\n",
    "\n",
    "test['Title']=test['Title'].fillna('5')\n",
    "\n",
    "\n",
    "test['Family']= test['SibSp'] + test['Parch']+1\n",
    "\n",
    "#test['IsAlone']=test['Family'].apply(lambda x: 0 if x==1 else 1)\n",
    "\n",
    "test['IsAlone'] = 0\n",
    "test.loc[test['Family'] == 1, 'IsAlone'] = 1\n",
    "\n",
    "#test.drop(['SibSp'], axis=1, inplace=True)\n",
    "\n",
    "test['Embarked'] = test['Embarked'].map( {'S': 0, 'C': 1, 'Q': 2} ).astype(int)\n",
    "\n",
    "test['Fare']=test['Fare'].fillna(1)\n",
    "\n",
    "test.loc[test['Fare']<=7.91, 'Fare' ]=0\n",
    "test.loc[(test['Fare']>7.91) & (test['Fare']<=14.454), 'Fare']=1\n",
    "test.loc[(test['Fare']>14.454) & (test['Fare']<=31), 'Fare']=2\n",
    "test.loc[(test['Fare']>31), 'Fare']=3\n",
    "test['Fare']=test['Fare'].astype(int)\n",
    "\n",
    "test['Age'].fillna(29, inplace=True)\n",
    "\n",
    "test.loc[test['Age']<=16, 'Age' ]=0\n",
    "test.loc[(test['Age']>16) & (test['Age']<=32), 'Age']=1\n",
    "test.loc[(test['Age']>32) & (test['Age']<=48), 'Age']=2\n",
    "test.loc[(test['Age']>48) & (test['Age']<=64), 'Age']=3\n",
    "test.loc[test['Age']>64, 'Age' ]=4\n",
    "\n",
    "#test['Sex']= le.fit_transform(test['Sex'])\n",
    "test['Cabin']= test['Cabin'].apply(lambda x: 0 if type(x)==float else 1)\n",
    "\n",
    "test['Sex'] = test['Sex'].map( {'female': 0, 'male': 1} ).astype(int)\n",
    "\n",
    "\n",
    "\n",
    "test.drop(['Name', 'Ticket','SibSp','Embarked','Cabin', 'IsAlone','Parch'], axis=1, inplace=True)\n",
    "\n",
    "test.head()\n",
    "x_test=np.asarray(test)"
   ]
  },
  {
   "cell_type": "code",
   "execution_count": 203,
   "metadata": {},
   "outputs": [],
   "source": [
    "idd=np.asarray(test['PassengerId'])\n",
    "test.drop('PassengerId', axis=1,inplace=True)\n",
    "xx=np.asarray(test)\n",
    "predict= dt.predict(xx)"
   ]
  },
  {
   "cell_type": "code",
   "execution_count": 204,
   "metadata": {},
   "outputs": [],
   "source": [
    "merge= np.c_[idd,predict]\n",
    "# Generate Submission File \n",
    "StackingSubmission = pd.DataFrame({ 'PassengerId': idd,\n",
    "                            'Survived': predict })\n",
    "StackingSubmission.to_csv(\"dt2.csv\", index=False)"
   ]
  },
  {
   "cell_type": "code",
   "execution_count": null,
   "metadata": {},
   "outputs": [],
   "source": []
  },
  {
   "cell_type": "code",
   "execution_count": null,
   "metadata": {},
   "outputs": [],
   "source": []
  },
  {
   "cell_type": "code",
   "execution_count": null,
   "metadata": {},
   "outputs": [],
   "source": []
  },
  {
   "cell_type": "code",
   "execution_count": null,
   "metadata": {},
   "outputs": [],
   "source": []
  },
  {
   "cell_type": "code",
   "execution_count": null,
   "metadata": {},
   "outputs": [],
   "source": []
  },
  {
   "cell_type": "code",
   "execution_count": null,
   "metadata": {},
   "outputs": [],
   "source": []
  }
 ],
 "metadata": {
  "kernelspec": {
   "display_name": "Python 3",
   "language": "python",
   "name": "python3"
  },
  "language_info": {
   "codemirror_mode": {
    "name": "ipython",
    "version": 3
   },
   "file_extension": ".py",
   "mimetype": "text/x-python",
   "name": "python",
   "nbconvert_exporter": "python",
   "pygments_lexer": "ipython3",
   "version": "3.6.5"
  }
 },
 "nbformat": 4,
 "nbformat_minor": 2
}
