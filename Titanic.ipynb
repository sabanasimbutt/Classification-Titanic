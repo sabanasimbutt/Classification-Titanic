{
 "cells": [
  {
   "cell_type": "code",
   "execution_count": 58,
   "metadata": {},
   "outputs": [],
   "source": [
    "import numpy as np \n",
    "import pandas as pd\n",
    "import seaborn as sns \n",
    "import matplotlib.pyplot as plt\n",
    "import seaborn as sns; sns.set() \n",
    "from sklearn.model_selection import train_test_split\n",
    "from sklearn.linear_model import LogisticRegression\n",
    "from sklearn.metrics import confusion_matrix\n",
    "from sklearn.svm import SVC\n",
    "from sklearn.preprocessing import PolynomialFeatures\n",
    "from sklearn.metrics import f1_score\n",
    "from sklearn.neighbors import KNeighborsClassifier\n",
    "from sklearn.tree import DecisionTreeClassifier\n",
    "from sklearn.metrics import accuracy_score"
   ]
  },
  {
   "cell_type": "code",
   "execution_count": 3,
   "metadata": {},
   "outputs": [],
   "source": [
    "data= pd.read_csv(\"C://Users/Saba Naseem/Desktop/Machine Learning/Codes/kaggle/Titanic/train.csv\")"
   ]
  },
  {
   "cell_type": "code",
   "execution_count": 4,
   "metadata": {},
   "outputs": [
    {
     "data": {
      "text/html": [
       "<div>\n",
       "<style scoped>\n",
       "    .dataframe tbody tr th:only-of-type {\n",
       "        vertical-align: middle;\n",
       "    }\n",
       "\n",
       "    .dataframe tbody tr th {\n",
       "        vertical-align: top;\n",
       "    }\n",
       "\n",
       "    .dataframe thead th {\n",
       "        text-align: right;\n",
       "    }\n",
       "</style>\n",
       "<table border=\"1\" class=\"dataframe\">\n",
       "  <thead>\n",
       "    <tr style=\"text-align: right;\">\n",
       "      <th></th>\n",
       "      <th>PassengerId</th>\n",
       "      <th>Survived</th>\n",
       "      <th>Pclass</th>\n",
       "      <th>Name</th>\n",
       "      <th>Sex</th>\n",
       "      <th>Age</th>\n",
       "      <th>SibSp</th>\n",
       "      <th>Parch</th>\n",
       "      <th>Ticket</th>\n",
       "      <th>Fare</th>\n",
       "      <th>Cabin</th>\n",
       "      <th>Embarked</th>\n",
       "    </tr>\n",
       "  </thead>\n",
       "  <tbody>\n",
       "    <tr>\n",
       "      <th>0</th>\n",
       "      <td>1</td>\n",
       "      <td>0</td>\n",
       "      <td>3</td>\n",
       "      <td>Braund, Mr. Owen Harris</td>\n",
       "      <td>male</td>\n",
       "      <td>22.0</td>\n",
       "      <td>1</td>\n",
       "      <td>0</td>\n",
       "      <td>A/5 21171</td>\n",
       "      <td>7.2500</td>\n",
       "      <td>NaN</td>\n",
       "      <td>S</td>\n",
       "    </tr>\n",
       "    <tr>\n",
       "      <th>1</th>\n",
       "      <td>2</td>\n",
       "      <td>1</td>\n",
       "      <td>1</td>\n",
       "      <td>Cumings, Mrs. John Bradley (Florence Briggs Th...</td>\n",
       "      <td>female</td>\n",
       "      <td>38.0</td>\n",
       "      <td>1</td>\n",
       "      <td>0</td>\n",
       "      <td>PC 17599</td>\n",
       "      <td>71.2833</td>\n",
       "      <td>C85</td>\n",
       "      <td>C</td>\n",
       "    </tr>\n",
       "    <tr>\n",
       "      <th>2</th>\n",
       "      <td>3</td>\n",
       "      <td>1</td>\n",
       "      <td>3</td>\n",
       "      <td>Heikkinen, Miss. Laina</td>\n",
       "      <td>female</td>\n",
       "      <td>26.0</td>\n",
       "      <td>0</td>\n",
       "      <td>0</td>\n",
       "      <td>STON/O2. 3101282</td>\n",
       "      <td>7.9250</td>\n",
       "      <td>NaN</td>\n",
       "      <td>S</td>\n",
       "    </tr>\n",
       "    <tr>\n",
       "      <th>3</th>\n",
       "      <td>4</td>\n",
       "      <td>1</td>\n",
       "      <td>1</td>\n",
       "      <td>Futrelle, Mrs. Jacques Heath (Lily May Peel)</td>\n",
       "      <td>female</td>\n",
       "      <td>35.0</td>\n",
       "      <td>1</td>\n",
       "      <td>0</td>\n",
       "      <td>113803</td>\n",
       "      <td>53.1000</td>\n",
       "      <td>C123</td>\n",
       "      <td>S</td>\n",
       "    </tr>\n",
       "    <tr>\n",
       "      <th>4</th>\n",
       "      <td>5</td>\n",
       "      <td>0</td>\n",
       "      <td>3</td>\n",
       "      <td>Allen, Mr. William Henry</td>\n",
       "      <td>male</td>\n",
       "      <td>35.0</td>\n",
       "      <td>0</td>\n",
       "      <td>0</td>\n",
       "      <td>373450</td>\n",
       "      <td>8.0500</td>\n",
       "      <td>NaN</td>\n",
       "      <td>S</td>\n",
       "    </tr>\n",
       "  </tbody>\n",
       "</table>\n",
       "</div>"
      ],
      "text/plain": [
       "   PassengerId  Survived  Pclass  \\\n",
       "0            1         0       3   \n",
       "1            2         1       1   \n",
       "2            3         1       3   \n",
       "3            4         1       1   \n",
       "4            5         0       3   \n",
       "\n",
       "                                                Name     Sex   Age  SibSp  \\\n",
       "0                            Braund, Mr. Owen Harris    male  22.0      1   \n",
       "1  Cumings, Mrs. John Bradley (Florence Briggs Th...  female  38.0      1   \n",
       "2                             Heikkinen, Miss. Laina  female  26.0      0   \n",
       "3       Futrelle, Mrs. Jacques Heath (Lily May Peel)  female  35.0      1   \n",
       "4                           Allen, Mr. William Henry    male  35.0      0   \n",
       "\n",
       "   Parch            Ticket     Fare Cabin Embarked  \n",
       "0      0         A/5 21171   7.2500   NaN        S  \n",
       "1      0          PC 17599  71.2833   C85        C  \n",
       "2      0  STON/O2. 3101282   7.9250   NaN        S  \n",
       "3      0            113803  53.1000  C123        S  \n",
       "4      0            373450   8.0500   NaN        S  "
      ]
     },
     "execution_count": 4,
     "metadata": {},
     "output_type": "execute_result"
    }
   ],
   "source": [
    "data.head()"
   ]
  },
  {
   "cell_type": "markdown",
   "metadata": {},
   "source": [
    "### Exploratory data analysis and Visualization"
   ]
  },
  {
   "cell_type": "code",
   "execution_count": 5,
   "metadata": {},
   "outputs": [
    {
     "data": {
      "text/plain": [
       "(891, 12)"
      ]
     },
     "execution_count": 5,
     "metadata": {},
     "output_type": "execute_result"
    }
   ],
   "source": [
    "data.shape"
   ]
  },
  {
   "cell_type": "markdown",
   "metadata": {},
   "source": [
    "Let's visualize data and gain a better insight about who survived and who died!"
   ]
  },
  {
   "cell_type": "code",
   "execution_count": 6,
   "metadata": {},
   "outputs": [
    {
     "data": {
      "text/plain": [
       "([<matplotlib.patches.Wedge at 0x1fe27b46630>,\n",
       "  <matplotlib.patches.Wedge at 0x1fe27b5b080>],\n",
       " [Text(-1.12098,-0.428264,'Died'), Text(1.02756,0.392575,'Survived')],\n",
       " [Text(-0.653903,-0.24982,'61.6%'), Text(0.560489,0.214132,'38.4%')])"
      ]
     },
     "execution_count": 6,
     "metadata": {},
     "output_type": "execute_result"
    },
    {
     "data": {
      "image/png": "[encoded data removed]",
      "text/plain": [
       "<Figure size 1080x360 with 2 Axes>"
      ]
     },
     "metadata": {},
     "output_type": "display_data"
    }
   ],
   "source": [
    "fig, ax = plt.subplots(1,2, figsize=[15,5])\n",
    "ax[0].set_title(\"Count\")\n",
    "sns.countplot(data['Survived'], ax=ax[0])\n",
    "ax[1].set_title(\"Percentages\")\n",
    "plt.pie(data['Survived'].value_counts(),labels=['Died','Survived'],explode=(0.1,0),\n",
    "        autopct='%1.1f%%',\n",
    "        shadow=True,\n",
    "        startangle=90)"
   ]
  },
  {
   "cell_type": "markdown",
   "metadata": {},
   "source": [
    "Above plot shows that more than 61% people failed to survive in that tragic incident.\n",
    "\n",
    "Let's get a deep insight about people who survived and who couldn't."
   ]
  },
  {
   "cell_type": "code",
   "execution_count": 7,
   "metadata": {},
   "outputs": [
    {
     "data": {
      "text/plain": [
       "<matplotlib.axes._subplots.AxesSubplot at 0x1fe27bd1390>"
      ]
     },
     "execution_count": 7,
     "metadata": {},
     "output_type": "execute_result"
    },
    {
     "data": {
      "text/plain": [
       "<Figure size 504x360 with 0 Axes>"
      ]
     },
     "metadata": {},
     "output_type": "display_data"
    },
    {
     "data": {
      "image/png": "[encoded data removed]",
      "text/plain": [
       "<Figure size 1080x360 with 2 Axes>"
      ]
     },
     "metadata": {},
     "output_type": "display_data"
    }
   ],
   "source": [
    "plt.figure(figsize=[7,5])\n",
    "fig, ax = plt.subplots(1,2, figsize=[15,5])\n",
    "ax[0].set_title('Survived vs Gender')\n",
    "sns.countplot(data['Sex'], ax=ax[0])\n",
    "ax[1].set_title(\"Survived vs died\")\n",
    "sns.countplot(data['Sex'], hue=data['Survived'], ax=ax[1])"
   ]
  },
  {
   "cell_type": "markdown",
   "metadata": {},
   "source": [
    "Above plot shows that there were more men than women in that ship and majority of them failed to save their lives."
   ]
  },
  {
   "cell_type": "code",
   "execution_count": 7,
   "metadata": {},
   "outputs": [
    {
     "data": {
      "text/plain": [
       "<matplotlib.axes._subplots.AxesSubplot at 0x1e06cbe7b00>"
      ]
     },
     "execution_count": 7,
     "metadata": {},
     "output_type": "execute_result"
    },
    {
     "data": {
      "text/plain": [
       "<Figure size 504x360 with 0 Axes>"
      ]
     },
     "metadata": {},
     "output_type": "display_data"
    },
    {
     "data": {
      "image/png": "[encoded data removed]",
      "text/plain": [
       "<Figure size 1080x360 with 2 Axes>"
      ]
     },
     "metadata": {},
     "output_type": "display_data"
    }
   ],
   "source": [
    "plt.figure(figsize=[7,5])\n",
    "fig, ax = plt.subplots(1,2, figsize=[15,5])\n",
    "ax[0].set_title('Survived vs Class')\n",
    "sns.countplot(data['Pclass'], ax=ax[0])\n",
    "ax[1].set_title(\"Survived vs died\")\n",
    "sns.countplot(data['Pclass'], hue=data['Survived'], ax=ax[1])"
   ]
  },
  {
   "cell_type": "markdown",
   "metadata": {},
   "source": [
    "Above plot shows that there were lower class people in abundant and majority of them died while the ratio of survived and died people of higher and middle class is almost same."
   ]
  },
  {
   "cell_type": "code",
   "execution_count": 10,
   "metadata": {},
   "outputs": [
    {
     "data": {
      "text/plain": [
       "<matplotlib.axes._subplots.AxesSubplot at 0x1e06d52bc18>"
      ]
     },
     "execution_count": 10,
     "metadata": {},
     "output_type": "execute_result"
    },
    {
     "data": {
      "text/plain": [
       "<Figure size 504x360 with 0 Axes>"
      ]
     },
     "metadata": {},
     "output_type": "display_data"
    },
    {
     "data": {
      "image/png": "[encoded data removed]",
      "text/plain": [
       "<Figure size 1080x360 with 2 Axes>"
      ]
     },
     "metadata": {},
     "output_type": "display_data"
    }
   ],
   "source": [
    "plt.figure(figsize=[7,5])\n",
    "fig, ax = plt.subplots(1,2, figsize=[15,5])\n",
    "ax[0].set_title('Survived vs Embarked')\n",
    "sns.countplot(data['Embarked'], ax=ax[0])\n",
    "ax[1].set_title(\"Survived vs died\")\n",
    "sns.countplot(data['Embarked'], hue=data['Survived'], ax=ax[1])"
   ]
  },
  {
   "cell_type": "markdown",
   "metadata": {},
   "source": [
    "Above plot shows that pople of category S were in abundant and half of them died."
   ]
  },
  {
   "cell_type": "code",
   "execution_count": 8,
   "metadata": {},
   "outputs": [
    {
     "data": {
      "text/plain": [
       "<matplotlib.axes._subplots.AxesSubplot at 0x1e06cc91d30>"
      ]
     },
     "execution_count": 8,
     "metadata": {},
     "output_type": "execute_result"
    },
    {
     "data": {
      "text/plain": [
       "<Figure size 504x360 with 0 Axes>"
      ]
     },
     "metadata": {},
     "output_type": "display_data"
    },
    {
     "data": {
      "image/png": "[encoded data removed]",
      "text/plain": [
       "<Figure size 1080x360 with 2 Axes>"
      ]
     },
     "metadata": {},
     "output_type": "display_data"
    }
   ],
   "source": [
    "plt.figure(figsize=[7,5])\n",
    "fig, ax = plt.subplots(1,2, figsize=[15,5])\n",
    "ax[0].set_title('Survived vs Parch')\n",
    "sns.countplot(data['Parch'], ax=ax[0])\n",
    "ax[1].set_title(\"Survived vs died\")\n",
    "sns.countplot(data['Parch'], hue=data['Survived'], ax=ax[1])"
   ]
  },
  {
   "cell_type": "code",
   "execution_count": 9,
   "metadata": {},
   "outputs": [
    {
     "data": {
      "text/plain": [
       "<matplotlib.axes._subplots.AxesSubplot at 0x1e06d0bacc0>"
      ]
     },
     "execution_count": 9,
     "metadata": {},
     "output_type": "execute_result"
    },
    {
     "data": {
      "text/plain": [
       "<Figure size 504x360 with 0 Axes>"
      ]
     },
     "metadata": {},
     "output_type": "display_data"
    },
    {
     "data": {
      "image/png": "[encoded data removed]",
      "text/plain": [
       "<Figure size 1080x360 with 2 Axes>"
      ]
     },
     "metadata": {},
     "output_type": "display_data"
    }
   ],
   "source": [
    "plt.figure(figsize=[7,5])\n",
    "fig, ax = plt.subplots(1,2, figsize=[15,5])\n",
    "ax[0].set_title('Survived vs Family')\n",
    "sns.countplot(data['SibSp'], ax=ax[0])\n",
    "ax[1].set_title(\"Survived vs died\")\n",
    "sns.countplot(data['SibSp'], hue=data['Survived'], ax=ax[1])"
   ]
  },
  {
   "cell_type": "markdown",
   "metadata": {},
   "source": [
    "Above plots show that there were more people in the ship who were alone and half of them died."
   ]
  },
  {
   "cell_type": "markdown",
   "metadata": {},
   "source": [
    "### Feature Engineering and Data Cleaning\n",
    "\n",
    "Let's see if there exist any missing value in our data and do some feature engineering!"
   ]
  },
  {
   "cell_type": "code",
   "execution_count": 8,
   "metadata": {},
   "outputs": [
    {
     "data": {
      "text/html": [
       "<div>\n",
       "<style scoped>\n",
       "    .dataframe tbody tr th:only-of-type {\n",
       "        vertical-align: middle;\n",
       "    }\n",
       "\n",
       "    .dataframe tbody tr th {\n",
       "        vertical-align: top;\n",
       "    }\n",
       "\n",
       "    .dataframe thead th {\n",
       "        text-align: right;\n",
       "    }\n",
       "</style>\n",
       "<table border=\"1\" class=\"dataframe\">\n",
       "  <thead>\n",
       "    <tr style=\"text-align: right;\">\n",
       "      <th></th>\n",
       "      <th>Total</th>\n",
       "      <th>Percentage</th>\n",
       "    </tr>\n",
       "  </thead>\n",
       "  <tbody>\n",
       "    <tr>\n",
       "      <th>Cabin</th>\n",
       "      <td>687</td>\n",
       "      <td>77.104377</td>\n",
       "    </tr>\n",
       "    <tr>\n",
       "      <th>Age</th>\n",
       "      <td>177</td>\n",
       "      <td>19.865320</td>\n",
       "    </tr>\n",
       "    <tr>\n",
       "      <th>Embarked</th>\n",
       "      <td>2</td>\n",
       "      <td>0.224467</td>\n",
       "    </tr>\n",
       "    <tr>\n",
       "      <th>Fare</th>\n",
       "      <td>0</td>\n",
       "      <td>0.000000</td>\n",
       "    </tr>\n",
       "    <tr>\n",
       "      <th>Ticket</th>\n",
       "      <td>0</td>\n",
       "      <td>0.000000</td>\n",
       "    </tr>\n",
       "    <tr>\n",
       "      <th>Parch</th>\n",
       "      <td>0</td>\n",
       "      <td>0.000000</td>\n",
       "    </tr>\n",
       "    <tr>\n",
       "      <th>SibSp</th>\n",
       "      <td>0</td>\n",
       "      <td>0.000000</td>\n",
       "    </tr>\n",
       "    <tr>\n",
       "      <th>Sex</th>\n",
       "      <td>0</td>\n",
       "      <td>0.000000</td>\n",
       "    </tr>\n",
       "    <tr>\n",
       "      <th>Name</th>\n",
       "      <td>0</td>\n",
       "      <td>0.000000</td>\n",
       "    </tr>\n",
       "    <tr>\n",
       "      <th>Pclass</th>\n",
       "      <td>0</td>\n",
       "      <td>0.000000</td>\n",
       "    </tr>\n",
       "    <tr>\n",
       "      <th>Survived</th>\n",
       "      <td>0</td>\n",
       "      <td>0.000000</td>\n",
       "    </tr>\n",
       "    <tr>\n",
       "      <th>PassengerId</th>\n",
       "      <td>0</td>\n",
       "      <td>0.000000</td>\n",
       "    </tr>\n",
       "  </tbody>\n",
       "</table>\n",
       "</div>"
      ],
      "text/plain": [
       "             Total  Percentage\n",
       "Cabin          687   77.104377\n",
       "Age            177   19.865320\n",
       "Embarked         2    0.224467\n",
       "Fare             0    0.000000\n",
       "Ticket           0    0.000000\n",
       "Parch            0    0.000000\n",
       "SibSp            0    0.000000\n",
       "Sex              0    0.000000\n",
       "Name             0    0.000000\n",
       "Pclass           0    0.000000\n",
       "Survived         0    0.000000\n",
       "PassengerId      0    0.000000"
      ]
     },
     "execution_count": 8,
     "metadata": {},
     "output_type": "execute_result"
    }
   ],
   "source": [
    "data.isnull().sum().sort_values(ascending=False)\n",
    "\n",
    "total= data.isnull().sum().sort_values(ascending=False)\n",
    "percent= ((data.isnull().sum()/data.isnull().count())*100).sort_values(ascending=False)\n",
    "\n",
    "missing= pd.concat([total, percent], axis=1,join='outer', keys=['Total','Percentage'])\n",
    "missing"
   ]
  },
  {
   "cell_type": "markdown",
   "metadata": {},
   "source": [
    "As we can see that more than 77% values are missing in Cabin feature, 19% in Age and only 2 values are missed in Embarked. "
   ]
  },
  {
   "cell_type": "markdown",
   "metadata": {},
   "source": [
    "Let's view the type of features."
   ]
  },
  {
   "cell_type": "code",
   "execution_count": 151,
   "metadata": {},
   "outputs": [
    {
     "name": "stdout",
     "output_type": "stream",
     "text": [
      "<class 'pandas.core.frame.DataFrame'>\n",
      "RangeIndex: 891 entries, 0 to 890\n",
      "Data columns (total 12 columns):\n",
      "PassengerId    891 non-null int64\n",
      "Survived       891 non-null int64\n",
      "Pclass         891 non-null int64\n",
      "Name           891 non-null object\n",
      "Sex            891 non-null object\n",
      "Age            714 non-null float64\n",
      "SibSp          891 non-null int64\n",
      "Parch          891 non-null int64\n",
      "Ticket         891 non-null object\n",
      "Fare           891 non-null float64\n",
      "Cabin          204 non-null object\n",
      "Embarked       889 non-null object\n",
      "dtypes: float64(2), int64(5), object(5)\n",
      "memory usage: 83.6+ KB\n"
     ]
    }
   ],
   "source": [
    "data.info()"
   ]
  },
  {
   "cell_type": "markdown",
   "metadata": {},
   "source": [
    "Let's transform these object type features into numeric type."
   ]
  },
  {
   "cell_type": "markdown",
   "metadata": {},
   "source": [
    "Map 'Sex' values."
   ]
  },
  {
   "cell_type": "code",
   "execution_count": 9,
   "metadata": {},
   "outputs": [
    {
     "name": "stdout",
     "output_type": "stream",
     "text": [
      "Before:  ['male' 'female']\n",
      "After:  [1 0]\n"
     ]
    }
   ],
   "source": [
    "print(\"Before: \", data['Sex'].unique())\n",
    "\n",
    "data['Sex']= data['Sex'].replace({'female':0, 'male':1}).astype('int')\n",
    "\n",
    "print(\"After: \", data['Sex'].unique())"
   ]
  },
  {
   "cell_type": "markdown",
   "metadata": {},
   "source": [
    "Map 'Age' values in range."
   ]
  },
  {
   "cell_type": "code",
   "execution_count": 10,
   "metadata": {},
   "outputs": [],
   "source": [
    "data['Age'].fillna(29, inplace=True)\n",
    "\n",
    "data.loc[data['Age']<=16, 'Age' ]=0\n",
    "data.loc[(data['Age']>16) & (data['Age']<=32), 'Age']=1\n",
    "data.loc[(data['Age']>32) & (data['Age']<=48), 'Age']=2\n",
    "data.loc[(data['Age']>48) & (data['Age']<=64), 'Age']=3\n",
    "data.loc[data['Age']>64, 'Age' ]=4"
   ]
  },
  {
   "cell_type": "markdown",
   "metadata": {},
   "source": [
    "Map 'Fare' values in range."
   ]
  },
  {
   "cell_type": "code",
   "execution_count": 11,
   "metadata": {},
   "outputs": [
    {
     "name": "stdout",
     "output_type": "stream",
     "text": [
      "After:  [1 3 2 4 0]\n"
     ]
    }
   ],
   "source": [
    "data.loc[data['Fare']<=5, 'Fare' ]=0\n",
    "data.loc[(data['Fare']>5) & (data['Fare']<=20), 'Fare']=1\n",
    "data.loc[(data['Fare']>20) & (data['Fare']<=50), 'Fare']=2\n",
    "data.loc[(data['Fare']>50) & (data['Fare']<=100), 'Fare']=3\n",
    "data.loc[data['Fare']>100, 'Fare' ]=4\n",
    "data['Fare']=data['Fare'].astype(int)\n",
    "\n",
    "print(\"After: \",data['Fare'].unique())"
   ]
  },
  {
   "cell_type": "markdown",
   "metadata": {},
   "source": [
    "Map 'Embarked' values."
   ]
  },
  {
   "cell_type": "code",
   "execution_count": 12,
   "metadata": {},
   "outputs": [
    {
     "name": "stdout",
     "output_type": "stream",
     "text": [
      "Before:  ['S' 'C' 'Q']\n",
      "After:  [0 1 2]\n"
     ]
    }
   ],
   "source": [
    "data['Embarked'].fillna('S', inplace=True)\n",
    "\n",
    "print(\"Before: \", data['Embarked'].unique())\n",
    "\n",
    "data['Embarked']= data['Embarked'].replace({'S':0, 'C':1, 'Q':2}).astype('int')\n",
    "\n",
    "print(\"After: \", data['Embarked'].unique())"
   ]
  },
  {
   "cell_type": "markdown",
   "metadata": {},
   "source": [
    "Map 'Cabin' feature into 0 and 1 i.e 1=Cabin , 0= No cabin"
   ]
  },
  {
   "cell_type": "code",
   "execution_count": 13,
   "metadata": {},
   "outputs": [],
   "source": [
    "data['Cabin']= data['Cabin'].apply(lambda x: 0 if type(x) == float else 1)"
   ]
  },
  {
   "cell_type": "markdown",
   "metadata": {},
   "source": [
    "Let's analyze 'Parch' and 'Sibsp' features and concate them into a single feature 'Family'."
   ]
  },
  {
   "cell_type": "code",
   "execution_count": 14,
   "metadata": {},
   "outputs": [],
   "source": [
    "data['Family']=0\n",
    "data['Family']= data['Parch']+data['SibSp']"
   ]
  },
  {
   "cell_type": "markdown",
   "metadata": {},
   "source": [
    "Let's drop categorical features."
   ]
  },
  {
   "cell_type": "code",
   "execution_count": 15,
   "metadata": {},
   "outputs": [],
   "source": [
    "data.drop(['PassengerId', 'Name', 'Ticket','Parch','SibSp'], axis=1, inplace=True)"
   ]
  },
  {
   "cell_type": "code",
   "execution_count": 16,
   "metadata": {},
   "outputs": [
    {
     "name": "stdout",
     "output_type": "stream",
     "text": [
      "<class 'pandas.core.frame.DataFrame'>\n",
      "RangeIndex: 891 entries, 0 to 890\n",
      "Data columns (total 8 columns):\n",
      "Survived    891 non-null int64\n",
      "Pclass      891 non-null int64\n",
      "Sex         891 non-null int32\n",
      "Age         891 non-null float64\n",
      "Fare        891 non-null int32\n",
      "Cabin       891 non-null int64\n",
      "Embarked    891 non-null int32\n",
      "Family      891 non-null int64\n",
      "dtypes: float64(1), int32(3), int64(4)\n",
      "memory usage: 45.3 KB\n"
     ]
    }
   ],
   "source": [
    "data.info()"
   ]
  },
  {
   "cell_type": "code",
   "execution_count": 17,
   "metadata": {},
   "outputs": [
    {
     "data": {
      "text/html": [
       "<div>\n",
       "<style scoped>\n",
       "    .dataframe tbody tr th:only-of-type {\n",
       "        vertical-align: middle;\n",
       "    }\n",
       "\n",
       "    .dataframe tbody tr th {\n",
       "        vertical-align: top;\n",
       "    }\n",
       "\n",
       "    .dataframe thead th {\n",
       "        text-align: right;\n",
       "    }\n",
       "</style>\n",
       "<table border=\"1\" class=\"dataframe\">\n",
       "  <thead>\n",
       "    <tr style=\"text-align: right;\">\n",
       "      <th></th>\n",
       "      <th>Survived</th>\n",
       "      <th>Pclass</th>\n",
       "      <th>Sex</th>\n",
       "      <th>Age</th>\n",
       "      <th>Fare</th>\n",
       "      <th>Cabin</th>\n",
       "      <th>Embarked</th>\n",
       "      <th>Family</th>\n",
       "    </tr>\n",
       "  </thead>\n",
       "  <tbody>\n",
       "    <tr>\n",
       "      <th>0</th>\n",
       "      <td>0</td>\n",
       "      <td>3</td>\n",
       "      <td>1</td>\n",
       "      <td>1.0</td>\n",
       "      <td>1</td>\n",
       "      <td>0</td>\n",
       "      <td>0</td>\n",
       "      <td>1</td>\n",
       "    </tr>\n",
       "    <tr>\n",
       "      <th>1</th>\n",
       "      <td>1</td>\n",
       "      <td>1</td>\n",
       "      <td>0</td>\n",
       "      <td>2.0</td>\n",
       "      <td>3</td>\n",
       "      <td>1</td>\n",
       "      <td>1</td>\n",
       "      <td>1</td>\n",
       "    </tr>\n",
       "    <tr>\n",
       "      <th>2</th>\n",
       "      <td>1</td>\n",
       "      <td>3</td>\n",
       "      <td>0</td>\n",
       "      <td>1.0</td>\n",
       "      <td>1</td>\n",
       "      <td>0</td>\n",
       "      <td>0</td>\n",
       "      <td>0</td>\n",
       "    </tr>\n",
       "    <tr>\n",
       "      <th>3</th>\n",
       "      <td>1</td>\n",
       "      <td>1</td>\n",
       "      <td>0</td>\n",
       "      <td>2.0</td>\n",
       "      <td>3</td>\n",
       "      <td>1</td>\n",
       "      <td>0</td>\n",
       "      <td>1</td>\n",
       "    </tr>\n",
       "    <tr>\n",
       "      <th>4</th>\n",
       "      <td>0</td>\n",
       "      <td>3</td>\n",
       "      <td>1</td>\n",
       "      <td>2.0</td>\n",
       "      <td>1</td>\n",
       "      <td>0</td>\n",
       "      <td>0</td>\n",
       "      <td>0</td>\n",
       "    </tr>\n",
       "  </tbody>\n",
       "</table>\n",
       "</div>"
      ],
      "text/plain": [
       "   Survived  Pclass  Sex  Age  Fare  Cabin  Embarked  Family\n",
       "0         0       3    1  1.0     1      0         0       1\n",
       "1         1       1    0  2.0     3      1         1       1\n",
       "2         1       3    0  1.0     1      0         0       0\n",
       "3         1       1    0  2.0     3      1         0       1\n",
       "4         0       3    1  2.0     1      0         0       0"
      ]
     },
     "execution_count": 17,
     "metadata": {},
     "output_type": "execute_result"
    }
   ],
   "source": [
    "data.head()"
   ]
  },
  {
   "cell_type": "markdown",
   "metadata": {},
   "source": [
    "So we have cleaned our data, extracted useful features and dropped unecessary columns.\n",
    "\n",
    "Now all of our features are of numeric type and all ready to feed into our Machine Learning Classifiers!"
   ]
  },
  {
   "cell_type": "markdown",
   "metadata": {},
   "source": [
    "### Model development"
   ]
  },
  {
   "cell_type": "code",
   "execution_count": 18,
   "metadata": {},
   "outputs": [],
   "source": [
    "y=np.asarray(data['Survived'])\n",
    "data.drop('Survived', axis=1, inplace=True)\n",
    "x=np.asarray(data)"
   ]
  },
  {
   "cell_type": "code",
   "execution_count": 19,
   "metadata": {},
   "outputs": [
    {
     "data": {
      "text/plain": [
       "(891, 7)"
      ]
     },
     "execution_count": 19,
     "metadata": {},
     "output_type": "execute_result"
    }
   ],
   "source": [
    "x.shape"
   ]
  },
  {
   "cell_type": "markdown",
   "metadata": {},
   "source": [
    "Let's split data into two , train and test set."
   ]
  },
  {
   "cell_type": "code",
   "execution_count": 20,
   "metadata": {},
   "outputs": [],
   "source": [
    "xtrain, xtest, ytrain, ytest= train_test_split(x, y, test_size=0.3, random_state=4)"
   ]
  },
  {
   "cell_type": "markdown",
   "metadata": {},
   "source": [
    "##### Logostic Regression\n",
    "\n",
    "Logistic Regression algorithm, is to find the best parameters θ, in such a way that the model best predicts the class of each case."
   ]
  },
  {
   "cell_type": "markdown",
   "metadata": {},
   "source": [
    "Let's build classifier using Logistic Regression and fit data into it."
   ]
  },
  {
   "cell_type": "code",
   "execution_count": 14,
   "metadata": {},
   "outputs": [
    {
     "data": {
      "text/plain": [
       "LogisticRegression(C=1, class_weight=None, dual=False, fit_intercept=True,\n",
       "          intercept_scaling=1, max_iter=100, multi_class='ovr', n_jobs=1,\n",
       "          penalty='l2', random_state=None, solver='liblinear', tol=0.0001,\n",
       "          verbose=0, warm_start=False)"
      ]
     },
     "execution_count": 14,
     "metadata": {},
     "output_type": "execute_result"
    }
   ],
   "source": [
    "LR= LogisticRegression(C=1)\n",
    "LR.fit(xtrain, ytrain)"
   ]
  },
  {
   "cell_type": "markdown",
   "metadata": {},
   "source": [
    "Let's evaluate model's accuracy by predicting In-sample and Out-sample data."
   ]
  },
  {
   "cell_type": "code",
   "execution_count": 15,
   "metadata": {},
   "outputs": [
    {
     "name": "stdout",
     "output_type": "stream",
     "text": [
      "In-Sample accuracy: 0.7222222222222222\n",
      "[[182  70]\n",
      " [ 70 301]]\n",
      "\n",
      "Out-Sample accuracy:  0.7262569832402235\n",
      "[[ 65  25]\n",
      " [ 24 154]]\n"
     ]
    }
   ],
   "source": [
    "predict= LR.predict(xtrain)\n",
    "print(\"In-Sample accuracy:\",f1_score(ytrain, predict))\n",
    "print(confusion_matrix(ytrain, predict, labels=[1,0]))\n",
    "\n",
    "predict= LR.predict(xtest)\n",
    "print(\"\\nOut-Sample accuracy: \",f1_score(ytest, predict))\n",
    "print(confusion_matrix(ytest, predict, labels=[1,0]))"
   ]
  },
  {
   "cell_type": "markdown",
   "metadata": {},
   "source": [
    "This shows that our model is just right as accuracy on In-sample data and Out-sample data is almost same i.e no high bias/variance problem."
   ]
  },
  {
   "cell_type": "markdown",
   "metadata": {},
   "source": [
    "Let's try building model using high order polynomials to see if we can achieve some high accuracy."
   ]
  },
  {
   "cell_type": "code",
   "execution_count": 65,
   "metadata": {},
   "outputs": [
    {
     "data": {
      "text/plain": [
       "((623, 330), (623,))"
      ]
     },
     "execution_count": 65,
     "metadata": {},
     "output_type": "execute_result"
    }
   ],
   "source": [
    "#using 4th degree polynomials\n",
    "\n",
    "Poly= PolynomialFeatures(4)\n",
    "xpoly=Poly.fit_transform(x)\n",
    "\n",
    "xtrain, xtest, ytrain, ytest= train_test_split(xpoly, y, test_size=0.3, random_state=4)\n",
    "\n",
    "xtrain.shape, ytrain.shape"
   ]
  },
  {
   "cell_type": "code",
   "execution_count": 17,
   "metadata": {},
   "outputs": [
    {
     "data": {
      "text/plain": [
       "LogisticRegression(C=1, class_weight=None, dual=False, fit_intercept=True,\n",
       "          intercept_scaling=1, max_iter=100, multi_class='ovr', n_jobs=1,\n",
       "          penalty='l2', random_state=None, solver='liblinear', tol=0.0001,\n",
       "          verbose=0, warm_start=False)"
      ]
     },
     "execution_count": 17,
     "metadata": {},
     "output_type": "execute_result"
    }
   ],
   "source": [
    "LRp= LogisticRegression(C=1)\n",
    "LRp.fit(xtrain, ytrain)"
   ]
  },
  {
   "cell_type": "code",
   "execution_count": 18,
   "metadata": {},
   "outputs": [
    {
     "name": "stdout",
     "output_type": "stream",
     "text": [
      "In-Sample accuracy: 0.8232758620689655\n",
      "[[191  61]\n",
      " [ 21 350]]\n",
      "\n",
      "Out-Sample accuracy:  0.7261904761904762\n",
      "[[ 61  29]\n",
      " [ 17 161]]\n"
     ]
    }
   ],
   "source": [
    "predict= LRp.predict(xtrain)\n",
    "print(\"In-Sample accuracy:\",f1_score(ytrain, predict))\n",
    "print(confusion_matrix(ytrain, predict, labels=[1,0]))\n",
    "\n",
    "predict= LRp.predict(xtest)\n",
    "print(\"\\nOut-Sample accuracy: \",f1_score(ytest, predict))\n",
    "print(confusion_matrix(ytest, predict, labels=[1,0]))"
   ]
  },
  {
   "cell_type": "markdown",
   "metadata": {},
   "source": [
    "Seems like our model is suffering from high variance problem.\n",
    "\n",
    "Let's decrease this variance factor by reducing the value of C which is controlling our model's regularization."
   ]
  },
  {
   "cell_type": "code",
   "execution_count": 19,
   "metadata": {},
   "outputs": [
    {
     "data": {
      "text/plain": [
       "LogisticRegression(C=0.01, class_weight=None, dual=False, fit_intercept=True,\n",
       "          intercept_scaling=1, max_iter=100, multi_class='ovr', n_jobs=1,\n",
       "          penalty='l2', random_state=None, solver='liblinear', tol=0.0001,\n",
       "          verbose=0, warm_start=False)"
      ]
     },
     "execution_count": 19,
     "metadata": {},
     "output_type": "execute_result"
    }
   ],
   "source": [
    "LRp= LogisticRegression(C=0.01)\n",
    "LRp.fit(xtrain, ytrain)"
   ]
  },
  {
   "cell_type": "code",
   "execution_count": 20,
   "metadata": {},
   "outputs": [
    {
     "name": "stdout",
     "output_type": "stream",
     "text": [
      "In-Sample accuracy: 0.7864693446088794\n",
      "[[186  66]\n",
      " [ 35 336]]\n",
      "\n",
      "Out-Sample accuracy:  0.7218934911242604\n",
      "[[ 61  29]\n",
      " [ 18 160]]\n"
     ]
    }
   ],
   "source": [
    "predict= LRp.predict(xtrain)\n",
    "print(\"In-Sample accuracy:\",f1_score(ytrain, predict))\n",
    "print(confusion_matrix(ytrain, predict, labels=[1,0]))\n",
    "\n",
    "predict= LRp.predict(xtest)\n",
    "print(\"\\nOut-Sample accuracy: \",f1_score(ytest, predict))\n",
    "print(confusion_matrix(ytest, predict, labels=[1,0]))"
   ]
  },
  {
   "cell_type": "markdown",
   "metadata": {},
   "source": [
    "It's getting better but not that much accuracy.\n",
    "\n",
    "Let's try some other classifiers."
   ]
  },
  {
   "cell_type": "markdown",
   "metadata": {},
   "source": [
    "##### K-Nearest Neighbors\n",
    "\n",
    "KNN is an algorithm for supervised learning. Where the data is 'trained' with data points corresponding to their classification. Once a point is to be predicted, it takes into account the 'K' nearest points to it to determine it's classification."
   ]
  },
  {
   "cell_type": "code",
   "execution_count": 44,
   "metadata": {},
   "outputs": [
    {
     "data": {
      "text/plain": [
       "KNeighborsClassifier(algorithm='auto', leaf_size=30, metric='minkowski',\n",
       "           metric_params=None, n_jobs=1, n_neighbors=2, p=2,\n",
       "           weights='uniform')"
      ]
     },
     "execution_count": 44,
     "metadata": {},
     "output_type": "execute_result"
    }
   ],
   "source": [
    "xtrain, xtest, ytrain, ytest= train_test_split(x, y, test_size=0.3, random_state=4)\n",
    "\n",
    "KNN= KNeighborsClassifier(n_neighbors=2)\n",
    "\n",
    "KNN.fit(xtrain,ytrain)"
   ]
  },
  {
   "cell_type": "code",
   "execution_count": 46,
   "metadata": {},
   "outputs": [
    {
     "name": "stdout",
     "output_type": "stream",
     "text": [
      "In-Sample accuracy: 0.7852193995381063\n",
      "[[170  82]\n",
      " [ 11 360]]\n",
      "\n",
      "Out-Sample accuracy:  0.6490066225165563\n",
      "[[ 49  41]\n",
      " [ 12 166]]\n"
     ]
    }
   ],
   "source": [
    "kpredict=KNN.predict(xtrain)\n",
    "\n",
    "print(\"In-Sample accuracy:\",f1_score(ytrain, kpredict))\n",
    "print(confusion_matrix(ytrain, kpredict, labels=[1,0]))\n",
    "\n",
    "kpredict= KNN.predict(xtest)\n",
    "print(\"\\nOut-Sample accuracy: \",f1_score(ytest, kpredict))\n",
    "print(confusion_matrix(ytest, kpredict, labels=[1,0]))"
   ]
  },
  {
   "cell_type": "markdown",
   "metadata": {},
   "source": [
    "Let's try out different number of K and calculate the accuracy of prediction of test set and see which one is best fit for our model."
   ]
  },
  {
   "cell_type": "code",
   "execution_count": 25,
   "metadata": {},
   "outputs": [],
   "source": [
    "K=[1,2,3,4,5,6,7,8,9,10]\n",
    "\n",
    "accuracy=[]\n",
    "\n",
    "for i in K:\n",
    "    \n",
    "    KNN= KNeighborsClassifier(n_neighbors=i)\n",
    "\n",
    "    KNN.fit(xtrain,ytrain)\n",
    "    \n",
    "    kpredict=KNN.predict(xtest)\n",
    "\n",
    "    accuracy.append(f1_score(ytest, kpredict))"
   ]
  },
  {
   "cell_type": "code",
   "execution_count": 26,
   "metadata": {},
   "outputs": [
    {
     "data": {
      "image/png": "[encoded data removed]",
      "text/plain": [
       "<Figure size 648x432 with 1 Axes>"
      ]
     },
     "metadata": {},
     "output_type": "display_data"
    }
   ],
   "source": [
    "plt.figure(figsize=[9,6])\n",
    "plt.plot(K, accuracy)\n",
    "plt.ylabel('Accuracy ')\n",
    "plt.xlabel('Number of Nabors (K)')\n",
    "plt.show()"
   ]
  },
  {
   "cell_type": "markdown",
   "metadata": {},
   "source": [
    "So the best fit for our model is K=10"
   ]
  },
  {
   "cell_type": "markdown",
   "metadata": {},
   "source": [
    "##### Decision Trees Classifier"
   ]
  },
  {
   "cell_type": "code",
   "execution_count": 49,
   "metadata": {},
   "outputs": [
    {
     "data": {
      "text/plain": [
       "DecisionTreeClassifier(class_weight=None, criterion='entropy', max_depth=4,\n",
       "            max_features=None, max_leaf_nodes=None,\n",
       "            min_impurity_decrease=0.0, min_impurity_split=None,\n",
       "            min_samples_leaf=1, min_samples_split=2,\n",
       "            min_weight_fraction_leaf=0.0, presort=False, random_state=None,\n",
       "            splitter='best')"
      ]
     },
     "execution_count": 49,
     "metadata": {},
     "output_type": "execute_result"
    }
   ],
   "source": [
    "DT= DecisionTreeClassifier(criterion=\"entropy\", max_depth = 4)\n",
    "DT.fit(xtrain,ytrain)"
   ]
  },
  {
   "cell_type": "code",
   "execution_count": 50,
   "metadata": {},
   "outputs": [
    {
     "name": "stdout",
     "output_type": "stream",
     "text": [
      "In-Sample accuracy: 0.7425968109339408\n",
      "[[163  89]\n",
      " [ 24 347]]\n",
      "\n",
      "Out-Sample accuracy:  0.7250000000000001\n",
      "[[ 58  32]\n",
      " [ 12 166]]\n"
     ]
    }
   ],
   "source": [
    "predict= DT.predict(xtrain)\n",
    "print(\"In-Sample accuracy:\",f1_score(ytrain, predict))\n",
    "print(confusion_matrix(ytrain, predict, labels=[1,0]))\n",
    "\n",
    "predict= DT.predict(xtest)\n",
    "print(\"\\nOut-Sample accuracy: \",f1_score(ytest, predict))\n",
    "print(confusion_matrix(ytest, predict, labels=[1,0]))"
   ]
  },
  {
   "cell_type": "code",
   "execution_count": null,
   "metadata": {},
   "outputs": [],
   "source": []
  },
  {
   "cell_type": "markdown",
   "metadata": {},
   "source": [
    "##### Support Vector Machine\n",
    "\n",
    "The SVM algorithm offers a choice of kernel functions for performing its processing. Basically, mapping data into a higher dimensional space is called kernelling. The mathematical function used for the transformation is known as the kernel function, and can be of different types, such as:\n",
    "\n",
    "* Linear\n",
    "* Polynomial\n",
    "* Radial basis function (RBF)\n",
    "* Sigmoid\n",
    "\n",
    "Each of these functions has its characteristics, its pros and cons, and its equation, but as there's no easy way of knowing which function performs best with any given dataset, we usually choose different functions in turn and compare the results."
   ]
  },
  {
   "cell_type": "code",
   "execution_count": 70,
   "metadata": {},
   "outputs": [
    {
     "name": "stdout",
     "output_type": "stream",
     "text": [
      "In-Sample accuracy: 0.7546391752577319\n",
      "[[183  69]\n",
      " [ 50 321]]\n",
      "\n",
      "Out-Sample accuracy:  0.7810650887573963\n",
      "[[ 66  24]\n",
      " [ 13 165]]\n"
     ]
    }
   ],
   "source": [
    "svc = SVC(kernel='rbf')\n",
    "\n",
    "svc.fit(xtrain,ytrain)\n",
    "\n",
    "predict= svc.predict(xtrain)\n",
    "print(\"In-Sample accuracy:\",f1_score(ytrain, predict))\n",
    "print(confusion_matrix(ytrain, predict, labels=[1,0]))\n",
    "\n",
    "predict= svc.predict(xtest)\n",
    "print(\"\\nOut-Sample accuracy: \",f1_score(ytest, predict))\n",
    "print(confusion_matrix(ytest, predict, labels=[1,0]))"
   ]
  },
  {
   "cell_type": "code",
   "execution_count": 71,
   "metadata": {},
   "outputs": [
    {
     "name": "stdout",
     "output_type": "stream",
     "text": [
      "In-Sample accuracy: 0.7080745341614907\n",
      "[[171  81]\n",
      " [ 60 311]]\n",
      "\n",
      "Out-Sample accuracy:  0.7167630057803468\n",
      "[[ 62  28]\n",
      " [ 21 157]]\n"
     ]
    }
   ],
   "source": [
    "svc = SVC(kernel='linear')\n",
    "\n",
    "svc.fit(xtrain,ytrain)\n",
    "\n",
    "predict= svc.predict(xtrain)\n",
    "print(\"In-Sample accuracy:\",f1_score(ytrain, predict))\n",
    "print(confusion_matrix(ytrain, predict, labels=[1,0]))\n",
    "\n",
    "predict= svc.predict(xtest)\n",
    "print(\"\\nOut-Sample accuracy: \",f1_score(ytest, predict))\n",
    "print(confusion_matrix(ytest, predict, labels=[1,0]))"
   ]
  },
  {
   "cell_type": "code",
   "execution_count": 72,
   "metadata": {},
   "outputs": [
    {
     "name": "stdout",
     "output_type": "stream",
     "text": [
      "In-Sample accuracy: 0.4567901234567901\n",
      "[[111 141]\n",
      " [123 248]]\n",
      "\n",
      "Out-Sample accuracy:  0.3425414364640884\n",
      "[[ 31  59]\n",
      " [ 60 118]]\n"
     ]
    }
   ],
   "source": [
    "svc = SVC(kernel='sigmoid')\n",
    "\n",
    "svc.fit(xtrain,ytrain)\n",
    "\n",
    "predict= svc.predict(xtrain)\n",
    "print(\"In-Sample accuracy:\",f1_score(ytrain, predict))\n",
    "print(confusion_matrix(ytrain, predict, labels=[1,0]))\n",
    "\n",
    "predict= svc.predict(xtest)\n",
    "print(\"\\nOut-Sample accuracy: \",f1_score(ytest, predict))\n",
    "print(confusion_matrix(ytest, predict, labels=[1,0]))"
   ]
  },
  {
   "cell_type": "code",
   "execution_count": 73,
   "metadata": {},
   "outputs": [
    {
     "name": "stdout",
     "output_type": "stream",
     "text": [
      "In-Sample accuracy: 0.7473903966597077\n",
      "[[179  73]\n",
      " [ 48 323]]\n",
      "\n",
      "Out-Sample accuracy:  0.7701149425287357\n",
      "[[ 67  23]\n",
      " [ 17 161]]\n"
     ]
    }
   ],
   "source": [
    "svc = SVC(kernel='poly')\n",
    "\n",
    "svc.fit(xtrain,ytrain)\n",
    "\n",
    "predict= svc.predict(xtrain)\n",
    "print(\"In-Sample accuracy:\",f1_score(ytrain, predict))\n",
    "print(confusion_matrix(ytrain, predict, labels=[1,0]))\n",
    "\n",
    "predict= svc.predict(xtest)\n",
    "print(\"\\nOut-Sample accuracy: \",f1_score(ytest, predict))\n",
    "print(confusion_matrix(ytest, predict, labels=[1,0]))"
   ]
  },
  {
   "cell_type": "code",
   "execution_count": null,
   "metadata": {},
   "outputs": [],
   "source": []
  },
  {
   "cell_type": "code",
   "execution_count": null,
   "metadata": {},
   "outputs": [],
   "source": []
  },
  {
   "cell_type": "code",
   "execution_count": null,
   "metadata": {},
   "outputs": [],
   "source": []
  }
 ],
 "metadata": {
  "kernelspec": {
   "display_name": "Python 3",
   "language": "python",
   "name": "python3"
  },
  "language_info": {
   "codemirror_mode": {
    "name": "ipython",
    "version": 3
   },
   "file_extension": ".py",
   "mimetype": "text/x-python",
   "name": "python",
   "nbconvert_exporter": "python",
   "pygments_lexer": "ipython3",
   "version": "3.6.5"
  }
 },
 "nbformat": 4,
 "nbformat_minor": 2
}
